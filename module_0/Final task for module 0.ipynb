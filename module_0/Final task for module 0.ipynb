{
 "cells": [
  {
   "cell_type": "code",
   "execution_count": null,
   "metadata": {},
   "outputs": [],
   "source": [
    "import numpy as np\n",
    "\n",
    "def game_core(number):      #Создаем игру для  поиска загаданного числа\n",
    "    \n",
    "                            # Будем считать что  наше число в середине диапазона загаданных чисел\n",
    "\n",
    " up = 100                   #верхняя  граница  диапазона \n",
    " down = 0                   #нижняя граница диапазона\n",
    " permit = (up + down) / 2   #предполагаемое чило\n",
    " count = 1\n",
    "\n",
    " while number != permit:\n",
    "    count+=1\n",
    "    \n",
    "    if  number > permit:\n",
    "        down = permit\n",
    "                \n",
    "    elif number < permit:\n",
    "        up = permit\n",
    "    \n",
    "    permit = round((up + down) / 2)\n",
    "    \n",
    " return(count)               # выход из цикла, если угадали \n",
    "\n",
    "def score_game(game_core):\n",
    "    '''Запускаем игру 1000 раз, чтобы узнать, как быстро игра угадывает число'''\n",
    "    count_ls = []\n",
    "    np.random.seed(1)  # фиксируем RANDOM SEED, чтобы ваш эксперимент был воспроизводим!\n",
    "    random_array = np.random.randint(1,101, size=(1000))\n",
    "    for number in random_array:\n",
    "        count_ls.append(game_core(number))\n",
    "    score = int(np.mean(count_ls))\n",
    "    print(f\"Ваш алгоритм угадывает число в среднем за {score} попыток\")\n",
    "    return(score)\n",
    "\n",
    "# запускаем\n",
    "score_game(game_core)"
   ]
  }
 ],
 "metadata": {
  "kernelspec": {
   "display_name": "Python 3",
   "language": "python",
   "name": "python3"
  },
  "language_info": {
   "codemirror_mode": {
    "name": "ipython",
    "version": 3
   },
   "file_extension": ".py",
   "mimetype": "text/x-python",
   "name": "python",
   "nbconvert_exporter": "python",
   "pygments_lexer": "ipython3",
   "version": "3.7.6"
  }
 },
 "nbformat": 4,
 "nbformat_minor": 4
}
