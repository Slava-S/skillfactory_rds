{
 "cells": [
  {
   "cell_type": "code",
   "execution_count": 1,
   "metadata": {},
   "outputs": [],
   "source": [
    "import pandas as pd\n",
    "import numpy as np\n",
    "import json\n",
    "\n",
    "from sklearn.model_selection import KFold,cross_val_score, train_test_split"
   ]
  },
  {
   "cell_type": "code",
   "execution_count": 2,
   "metadata": {},
   "outputs": [],
   "source": [
    "def mape(y_true, y_pred):\n",
    "    \"\"\"оценка MEAN ABSOLUTE PERCENTAGE ERROR, которая используется в соревновании\"\"\"\n",
    "    return np.mean(np.abs((y_true - y_pred) / y_true)) * 100\n"
   ]
  },
  {
   "cell_type": "code",
   "execution_count": 3,
   "metadata": {},
   "outputs": [],
   "source": [
    "def fit_and_score_model(model, X, y):\n",
    "    \"\"\"Оцениваем модель и данные на трех фолдах. Выводим средюю оценку, и оценки на фолдах\"\"\"\n",
    "    \n",
    "    kf = KFold(n_splits=3, shuffle=True, random_state=RANDOM_STATE)\n",
    "    cv_results = cross_val_score(\n",
    "        model, X, y, cv=kf, n_jobs=-1, scoring=make_scorer(mape))\n",
    "    \n",
    "    model.fit(X,y)\n",
    "    train_score = mape(y, model.predict(X))\n",
    "    \n",
    "    print(\"#\"*100)\n",
    "    print(model)\n",
    "    print(f\"train shape {X.shape}\")\n",
    "    print(f\"cat_cols={cat_cols}\")\n",
    "    print(f\"num_cols={num_cols}\")\n",
    "    print(\"#\"*100)\n",
    "    print(f\"Train result: {train_score}\")\n",
    "    print(f'CV result: {np.mean(cv_results)} ({cv_results})')\n",
    "    print(\"#\"*100)"
   ]
  },
  {
   "cell_type": "code",
   "execution_count": 4,
   "metadata": {},
   "outputs": [],
   "source": [
    "def make_submit_file(model, X_sub, file_name='predict.csv'):\n",
    "    \"\"\"запишем предсказание модели в файл, готовый к отправке на kaggle\"\"\"\n",
    "    predict_submission = np.exp(model.predict(X_sub))\n",
    "    sample_submission = pd.read_csv('sample_submission.csv')\n",
    "    sample_submission['price'] = predict_submission\n",
    "    sample_submission.to_csv(file_name, index=False)\n",
    "    print(sample_submission.head(10))"
   ]
  },
  {
   "cell_type": "code",
   "execution_count": null,
   "metadata": {},
   "outputs": [],
   "source": []
  }
 ],
 "metadata": {
  "kernelspec": {
   "display_name": "Python 3",
   "language": "python",
   "name": "python3"
  },
  "language_info": {
   "codemirror_mode": {
    "name": "ipython",
    "version": 3
   },
   "file_extension": ".py",
   "mimetype": "text/x-python",
   "name": "python",
   "nbconvert_exporter": "python",
   "pygments_lexer": "ipython3",
   "version": "3.7.6"
  }
 },
 "nbformat": 4,
 "nbformat_minor": 4
}
